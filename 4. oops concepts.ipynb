{
 "cells": [
  {
   "cell_type": "markdown",
   "id": "c60dfcb2",
   "metadata": {},
   "source": [
    "# * class, object, methods, variables"
   ]
  },
  {
   "cell_type": "code",
   "execution_count": 2,
   "id": "0e0aa6ce",
   "metadata": {},
   "outputs": [],
   "source": [
    "# traditional method - how to define a class\n",
    "class car:     #  empty class\n",
    "    pass       # meaning of pass i dont have any properties inside this perticular class "
   ]
  },
  {
   "cell_type": "code",
   "execution_count": 3,
   "id": "28cb1350",
   "metadata": {},
   "outputs": [],
   "source": [
    "car1 = car()    # instantiated from car class & class methods"
   ]
  },
  {
   "cell_type": "code",
   "execution_count": 4,
   "id": "860a213f",
   "metadata": {},
   "outputs": [
    {
     "data": {
      "text/plain": [
       "<__main__.car at 0x1cec05beda0>"
      ]
     },
     "execution_count": 4,
     "metadata": {},
     "output_type": "execute_result"
    }
   ],
   "source": [
    "car1"
   ]
  },
  {
   "cell_type": "code",
   "execution_count": 5,
   "id": "ce6c78f0",
   "metadata": {},
   "outputs": [],
   "source": [
    "car1.windows = 5   # defining properties\n",
    "car1.doors = 4"
   ]
  },
  {
   "cell_type": "code",
   "execution_count": 6,
   "id": "c611fead",
   "metadata": {},
   "outputs": [
    {
     "name": "stdout",
     "output_type": "stream",
     "text": [
      "5\n"
     ]
    }
   ],
   "source": [
    "print(car1.windows)"
   ]
  },
  {
   "cell_type": "code",
   "execution_count": 7,
   "id": "8326e6fb",
   "metadata": {},
   "outputs": [],
   "source": [
    "car2 = car()"
   ]
  },
  {
   "cell_type": "code",
   "execution_count": 8,
   "id": "6b7a030d",
   "metadata": {},
   "outputs": [],
   "source": [
    "car2.windows = 3\n",
    "car2.doors = 6"
   ]
  },
  {
   "cell_type": "code",
   "execution_count": 9,
   "id": "b1417298",
   "metadata": {},
   "outputs": [
    {
     "name": "stdout",
     "output_type": "stream",
     "text": [
      "3\n"
     ]
    }
   ],
   "source": [
    "print(car2.windows)"
   ]
  },
  {
   "cell_type": "code",
   "execution_count": 12,
   "id": "a7ee9549",
   "metadata": {},
   "outputs": [],
   "source": [
    "car2.engintype ='petrol'"
   ]
  },
  {
   "cell_type": "code",
   "execution_count": 13,
   "id": "ea244838",
   "metadata": {},
   "outputs": [
    {
     "name": "stdout",
     "output_type": "stream",
     "text": [
      "petrol\n"
     ]
    }
   ],
   "source": [
    "print(car2.engintype)"
   ]
  },
  {
   "cell_type": "code",
   "execution_count": 1,
   "id": "1b51e3a7",
   "metadata": {},
   "outputs": [],
   "source": [
    "# creating a simple class\n",
    "class phone:                  # it is class(phone)\n",
    "    def make_call(self):        # method\n",
    "        print('i am making a call')\n",
    "    def play_game(self):           # method  \n",
    "        print('i am playing a game')\n"
   ]
  },
  {
   "cell_type": "code",
   "execution_count": 2,
   "id": "5d3a8271",
   "metadata": {},
   "outputs": [],
   "source": [
    "p1 = phone()       # it is object"
   ]
  },
  {
   "cell_type": "code",
   "execution_count": 3,
   "id": "452d61b7",
   "metadata": {},
   "outputs": [
    {
     "name": "stdout",
     "output_type": "stream",
     "text": [
      "i am making a call\n"
     ]
    }
   ],
   "source": [
    "p1.make_call()      # invok methods"
   ]
  },
  {
   "cell_type": "code",
   "execution_count": 4,
   "id": "a8d3140c",
   "metadata": {},
   "outputs": [
    {
     "name": "stdout",
     "output_type": "stream",
     "text": [
      "i am playing a game\n"
     ]
    }
   ],
   "source": [
    "p1.play_game()"
   ]
  },
  {
   "cell_type": "code",
   "execution_count": 26,
   "id": "bc3a1e43",
   "metadata": {},
   "outputs": [],
   "source": [
    "# advance method\n",
    "class car:             # car is class , attributs = wind, door,engintype  , self is compulsary\n",
    "    def __init__(self,windows,doors,engintype):      # this is constructor\n",
    "        self.window = windows\n",
    "        self.door = doors\n",
    "        self.engintype = engintype\n",
    "    def self_driving(self):         # defining class method\n",
    "        return 'this is a {} car.'.format(self.engintype)    # dealing with .format function\n",
    "    "
   ]
  },
  {
   "cell_type": "code",
   "execution_count": 27,
   "id": "1fabf702",
   "metadata": {},
   "outputs": [],
   "source": [
    "car1 = car(4,5,'petrol')    # it is object"
   ]
  },
  {
   "cell_type": "code",
   "execution_count": 28,
   "id": "828d4c82",
   "metadata": {},
   "outputs": [],
   "source": [
    "car2 = car(3,4,'diesel')"
   ]
  },
  {
   "cell_type": "code",
   "execution_count": 29,
   "id": "8e9e1bb0",
   "metadata": {},
   "outputs": [
    {
     "name": "stdout",
     "output_type": "stream",
     "text": [
      "4\n"
     ]
    }
   ],
   "source": [
    "print(car1.window)"
   ]
  },
  {
   "cell_type": "code",
   "execution_count": 32,
   "id": "668f2ade",
   "metadata": {},
   "outputs": [
    {
     "data": {
      "text/plain": [
       "'this is a petrol car.'"
      ]
     },
     "execution_count": 32,
     "metadata": {},
     "output_type": "execute_result"
    }
   ],
   "source": [
    "car1.self_driving()"
   ]
  },
  {
   "cell_type": "code",
   "execution_count": 30,
   "id": "c3e39e6d",
   "metadata": {},
   "outputs": [
    {
     "name": "stdout",
     "output_type": "stream",
     "text": [
      "diesel\n"
     ]
    }
   ],
   "source": [
    "print(car2.engintype)"
   ]
  },
  {
   "cell_type": "code",
   "execution_count": 23,
   "id": "9b73d933",
   "metadata": {
    "scrolled": true
   },
   "outputs": [
    {
     "data": {
      "text/plain": [
       "['__class__',\n",
       " '__delattr__',\n",
       " '__dict__',\n",
       " '__dir__',\n",
       " '__doc__',\n",
       " '__eq__',\n",
       " '__format__',\n",
       " '__ge__',\n",
       " '__getattribute__',\n",
       " '__gt__',\n",
       " '__hash__',\n",
       " '__init__',\n",
       " '__init_subclass__',\n",
       " '__le__',\n",
       " '__lt__',\n",
       " '__module__',\n",
       " '__ne__',\n",
       " '__new__',\n",
       " '__reduce__',\n",
       " '__reduce_ex__',\n",
       " '__repr__',\n",
       " '__setattr__',\n",
       " '__sizeof__',\n",
       " '__str__',\n",
       " '__subclasshook__',\n",
       " '__weakref__',\n",
       " 'doors',\n",
       " 'windows']"
      ]
     },
     "execution_count": 23,
     "metadata": {},
     "output_type": "execute_result"
    }
   ],
   "source": [
    "dir(car1)   # it is showing keyword methods"
   ]
  },
  {
   "cell_type": "markdown",
   "id": "6732e955",
   "metadata": {},
   "source": [
    "# * class methods & class variables"
   ]
  },
  {
   "cell_type": "code",
   "execution_count": 34,
   "id": "4a033fb7",
   "metadata": {},
   "outputs": [],
   "source": [
    "class car:\n",
    "    base_price = 10000          # class variable\n",
    "    def __init__(self,windows,doors,engintype):      # this is constructor\n",
    "        self.window = windows\n",
    "        self.door = doors\n",
    "        self.engintype = engintype\n",
    "    def what_base_price(self):     # inflation\n",
    "        print('the base price is {}'.format(self.base_price))\n",
    "    @classmethod          # decorator\n",
    "    def revise_base_price(cls,inflation):\n",
    "        cls.base_price = cls.base_price + cls.base_price* inflation"
   ]
  },
  {
   "cell_type": "code",
   "execution_count": 35,
   "id": "f707d50e",
   "metadata": {},
   "outputs": [],
   "source": [
    "car.revise_base_price(0.10)   # it is most used approch"
   ]
  },
  {
   "cell_type": "code",
   "execution_count": 36,
   "id": "4f22c6c9",
   "metadata": {},
   "outputs": [
    {
     "data": {
      "text/plain": [
       "11000.0"
      ]
     },
     "execution_count": 36,
     "metadata": {},
     "output_type": "execute_result"
    }
   ],
   "source": [
    "car.base_price"
   ]
  },
  {
   "cell_type": "code",
   "execution_count": 37,
   "id": "f385d82f",
   "metadata": {},
   "outputs": [],
   "source": [
    "car1 = car(4,5,2000)"
   ]
  },
  {
   "cell_type": "code",
   "execution_count": 38,
   "id": "06d91346",
   "metadata": {},
   "outputs": [
    {
     "data": {
      "text/plain": [
       "11000.0"
      ]
     },
     "execution_count": 38,
     "metadata": {},
     "output_type": "execute_result"
    }
   ],
   "source": [
    "car1.base_price"
   ]
  },
  {
   "cell_type": "code",
   "execution_count": 47,
   "id": "726d1c14",
   "metadata": {},
   "outputs": [],
   "source": [
    "car3.revise_base_price(0.10)"
   ]
  },
  {
   "cell_type": "code",
   "execution_count": 48,
   "id": "2f9d6727",
   "metadata": {},
   "outputs": [
    {
     "data": {
      "text/plain": [
       "12100.0"
      ]
     },
     "execution_count": 48,
     "metadata": {},
     "output_type": "execute_result"
    }
   ],
   "source": [
    "car3.base_price"
   ]
  },
  {
   "cell_type": "markdown",
   "id": "4de0030e",
   "metadata": {},
   "source": [
    "# * static method \n",
    "    * it is quit faster method so we can use"
   ]
  },
  {
   "cell_type": "code",
   "execution_count": 50,
   "id": "3136cd1b",
   "metadata": {},
   "outputs": [],
   "source": [
    "import datetime\n",
    "now = datetime.datetime.now()"
   ]
  },
  {
   "cell_type": "code",
   "execution_count": 53,
   "id": "826b4859",
   "metadata": {},
   "outputs": [
    {
     "data": {
      "text/plain": [
       "2023"
      ]
     },
     "execution_count": 53,
     "metadata": {},
     "output_type": "execute_result"
    }
   ],
   "source": [
    "now.year"
   ]
  },
  {
   "cell_type": "code",
   "execution_count": 54,
   "id": "230abc4a",
   "metadata": {},
   "outputs": [],
   "source": [
    "class car:\n",
    "    base_price = 10000          # class variable\n",
    "    def __init__(self,windows,doors,engintype):      # this is a constructor\n",
    "        self.window = windows\n",
    "        self.door = doors\n",
    "        self.engintype = engintype\n",
    "    def what_base_price(self):     # inflation\n",
    "        print('the base price is {}'.format(self.base_price))\n",
    "    @classmethod         # decorator\n",
    "    def revise_base_price(cls,inflation):\n",
    "        cls.base_price = cls.base_price + cls.base_price* inflation\n",
    "    @staticmethod\n",
    "    def check_year():\n",
    "        if now.year==2023:\n",
    "            return True\n",
    "        else:\n",
    "            return False"
   ]
  },
  {
   "cell_type": "code",
   "execution_count": 55,
   "id": "08a2b673",
   "metadata": {},
   "outputs": [
    {
     "data": {
      "text/plain": [
       "True"
      ]
     },
     "execution_count": 55,
     "metadata": {},
     "output_type": "execute_result"
    }
   ],
   "source": [
    "car.check_year()"
   ]
  },
  {
   "cell_type": "code",
   "execution_count": 56,
   "id": "3001d174",
   "metadata": {},
   "outputs": [],
   "source": [
    "car1 = car(4,5,2000)"
   ]
  },
  {
   "cell_type": "code",
   "execution_count": 58,
   "id": "5289ad54",
   "metadata": {},
   "outputs": [],
   "source": [
    "if(car1.check_year()):\n",
    "    pass\n",
    "else:\n",
    "    car.revise_base_price()"
   ]
  },
  {
   "cell_type": "code",
   "execution_count": 59,
   "id": "553daaf9",
   "metadata": {},
   "outputs": [
    {
     "data": {
      "text/plain": [
       "10000"
      ]
     },
     "execution_count": 59,
     "metadata": {},
     "output_type": "execute_result"
    }
   ],
   "source": [
    "car1.base_price"
   ]
  },
  {
   "cell_type": "markdown",
   "id": "cb40c1b0",
   "metadata": {},
   "source": [
    "# * Inheritance"
   ]
  },
  {
   "cell_type": "code",
   "execution_count": 1,
   "id": "90e3a539",
   "metadata": {},
   "outputs": [],
   "source": [
    "# basic inheritance or single inheritance\n",
    "class vehicle:           # creating a base class or parent class\n",
    "    \n",
    "    def __init__(self,milage,cost):\n",
    "        self.milage = milage\n",
    "        self.cost = cost\n",
    "        \n",
    "    def show_details(self):  \n",
    "        print(\"I am a vehicle\")\n",
    "        print(\"milage of vehicle is \", self.milage)\n",
    "        print(\"cost of vehicle is \", self.cost)\n"
   ]
  },
  {
   "cell_type": "code",
   "execution_count": 2,
   "id": "7399dfa0",
   "metadata": {},
   "outputs": [
    {
     "name": "stdout",
     "output_type": "stream",
     "text": [
      "I am a vehicle\n",
      "milage of vehicle is  500\n",
      "cost of vehicle is  3000\n"
     ]
    }
   ],
   "source": [
    "v1 = vehicle(500,3000)    # instantiating the object for base class\n",
    "v1.show_details()       "
   ]
  },
  {
   "cell_type": "code",
   "execution_count": 8,
   "id": "b61b81e7",
   "metadata": {},
   "outputs": [],
   "source": [
    " class car(vehicle):     # creating the child class\n",
    "    def show_car(self):\n",
    "        print(\"I am a car\")"
   ]
  },
  {
   "cell_type": "code",
   "execution_count": 9,
   "id": "32d71146",
   "metadata": {},
   "outputs": [
    {
     "name": "stdout",
     "output_type": "stream",
     "text": [
      "I am a vehicle\n",
      "milage of vehicle is  200\n",
      "cost of vehicle is  1200\n"
     ]
    }
   ],
   "source": [
    "c1 = car(200,1200)     # instantiating the object for child class\n",
    "c1.show_details()"
   ]
  },
  {
   "cell_type": "code",
   "execution_count": 10,
   "id": "e42cc22d",
   "metadata": {},
   "outputs": [
    {
     "name": "stdout",
     "output_type": "stream",
     "text": [
      "I am a car\n"
     ]
    }
   ],
   "source": [
    "c1.show_car()   # invoking the child class method"
   ]
  },
  {
   "cell_type": "markdown",
   "id": "d02275fc",
   "metadata": {},
   "source": [
    "# * Over Riding - init method"
   ]
  },
  {
   "cell_type": "code",
   "execution_count": 15,
   "id": "b99877fe",
   "metadata": {},
   "outputs": [],
   "source": [
    "class vehicle:           # creating a base class or parent class\n",
    "    \n",
    "    def __init__(self,milage,cost):\n",
    "        self.milage = milage\n",
    "        self.cost = cost\n",
    "        \n",
    "    def show_details(self):  \n",
    "        print(\"I am a vehicle\")\n",
    "        print(\"milage of vehicle is \", self.milage)\n",
    "        print(\"cost of vehicle is \", self.cost)\n"
   ]
  },
  {
   "cell_type": "code",
   "execution_count": 16,
   "id": "b64cb80e",
   "metadata": {},
   "outputs": [],
   "source": [
    "v1 = vehicle(500,3000)"
   ]
  },
  {
   "cell_type": "code",
   "execution_count": 27,
   "id": "063fa847",
   "metadata": {},
   "outputs": [],
   "source": [
    " class car(vehicle): \n",
    "    def __init__(self,milage,cost,tyres,hp):\n",
    "            super().__init__(milage,cost)      # over riding init method\n",
    "            self.tyres = tyres\n",
    "            self.hp = hp\n",
    "            \n",
    "    def show_car_details(self):   \n",
    "        print(\"number of tyres in car \", self.tyres)\n",
    "        print(\"Horse power of car is \", self.hp)\n",
    "        print(\"i am a car\")"
   ]
  },
  {
   "cell_type": "code",
   "execution_count": 34,
   "id": "79a19d4b",
   "metadata": {},
   "outputs": [],
   "source": [
    "c1 = car(890,100000,4,500)"
   ]
  },
  {
   "cell_type": "code",
   "execution_count": 35,
   "id": "d85fde8e",
   "metadata": {},
   "outputs": [
    {
     "name": "stdout",
     "output_type": "stream",
     "text": [
      "I am a vehicle\n",
      "milage of vehicle is  890\n",
      "cost of vehicle is  100000\n"
     ]
    }
   ],
   "source": [
    "c1.show_details()   # invoking the parent class"
   ]
  },
  {
   "cell_type": "code",
   "execution_count": 36,
   "id": "2ed4f650",
   "metadata": {},
   "outputs": [
    {
     "name": "stdout",
     "output_type": "stream",
     "text": [
      "number of tyres in car  4\n",
      "Horse power of car is  500\n",
      "i am a car\n"
     ]
    }
   ],
   "source": [
    "c1.show_car_details()   # invoking the child class"
   ]
  },
  {
   "cell_type": "markdown",
   "id": "86ee40db",
   "metadata": {},
   "source": [
    "# * types of inheritance (5 types)\n",
    "## 2 multiple inheritance"
   ]
  },
  {
   "cell_type": "code",
   "execution_count": 37,
   "id": "d28ffacb",
   "metadata": {},
   "outputs": [],
   "source": [
    "# parent class one\n",
    "class parent_1():\n",
    "    def assign_string_one(self,str1):\n",
    "        self.str1 = str1\n",
    "        \n",
    "    def show_string_one(self):\n",
    "        return self.str1"
   ]
  },
  {
   "cell_type": "code",
   "execution_count": 38,
   "id": "f114f62b",
   "metadata": {},
   "outputs": [],
   "source": [
    "# parent class two\n",
    "class parent_2():\n",
    "    def assign_string_two(self,str2):\n",
    "        self.str2 = str2\n",
    "        \n",
    "    def show_string_two(self):\n",
    "        return self.str2"
   ]
  },
  {
   "cell_type": "code",
   "execution_count": 39,
   "id": "42fa2772",
   "metadata": {},
   "outputs": [],
   "source": [
    "# child class \n",
    "class derived(parent_1, parent_2):\n",
    "    def assign_string_three(self,str3):\n",
    "        self.str3 = str3\n",
    "        \n",
    "    def show_string_three(self):\n",
    "        return self.str3"
   ]
  },
  {
   "cell_type": "code",
   "execution_count": 40,
   "id": "2a717dd1",
   "metadata": {},
   "outputs": [],
   "source": [
    "d1 = derived()  # instantiating object of child class"
   ]
  },
  {
   "cell_type": "code",
   "execution_count": 41,
   "id": "3cc37260",
   "metadata": {},
   "outputs": [],
   "source": [
    "d1.assign_string_one('one')\n",
    "d1.assign_string_two('two')\n",
    "d1.assign_string_three('three')"
   ]
  },
  {
   "cell_type": "code",
   "execution_count": 42,
   "id": "67bcb985",
   "metadata": {},
   "outputs": [
    {
     "data": {
      "text/plain": [
       "'one'"
      ]
     },
     "execution_count": 42,
     "metadata": {},
     "output_type": "execute_result"
    }
   ],
   "source": [
    "d1.show_string_one()    # invoking methods"
   ]
  },
  {
   "cell_type": "code",
   "execution_count": 43,
   "id": "364191b8",
   "metadata": {},
   "outputs": [
    {
     "data": {
      "text/plain": [
       "'two'"
      ]
     },
     "execution_count": 43,
     "metadata": {},
     "output_type": "execute_result"
    }
   ],
   "source": [
    "d1.show_string_two()       # invoking methods"
   ]
  },
  {
   "cell_type": "code",
   "execution_count": 44,
   "id": "7d920d7d",
   "metadata": {},
   "outputs": [
    {
     "data": {
      "text/plain": [
       "'three'"
      ]
     },
     "execution_count": 44,
     "metadata": {},
     "output_type": "execute_result"
    }
   ],
   "source": [
    "d1.show_string_three()       # invoking methods"
   ]
  },
  {
   "cell_type": "markdown",
   "id": "df10bc52",
   "metadata": {},
   "source": [
    "## 3 multi- level inheritance\n",
    "#### - in multi- level inheritance, we have parent,child, grand child relationship"
   ]
  },
  {
   "cell_type": "code",
   "execution_count": 53,
   "id": "542896a1",
   "metadata": {},
   "outputs": [],
   "source": [
    "# parent class\n",
    "class parent():\n",
    "    def get_name(self,name):\n",
    "        self.name = name\n",
    "        \n",
    "    def show_name(self):\n",
    "            return self.name"
   ]
  },
  {
   "cell_type": "code",
   "execution_count": 54,
   "id": "6ac2349e",
   "metadata": {},
   "outputs": [],
   "source": [
    "# child class\n",
    "class child(parent):\n",
    "    def get_age(self,age):\n",
    "        self.age = age\n",
    "        \n",
    "    def show_age(self):\n",
    "        return self.age"
   ]
  },
  {
   "cell_type": "code",
   "execution_count": 55,
   "id": "96a09990",
   "metadata": {},
   "outputs": [],
   "source": [
    "# grand child\n",
    "class Grandchild(child):\n",
    "    def get_gender(self,gender):\n",
    "        self.gender = gender\n",
    "        \n",
    "    def show_gender(self):\n",
    "        return self.gender"
   ]
  },
  {
   "cell_type": "code",
   "execution_count": 56,
   "id": "cb1c9c7c",
   "metadata": {},
   "outputs": [],
   "source": [
    "a1 = Grandchild()  # instantiating "
   ]
  },
  {
   "cell_type": "code",
   "execution_count": 57,
   "id": "1abb41ff",
   "metadata": {},
   "outputs": [],
   "source": [
    "a1.get_name('Girija')"
   ]
  },
  {
   "cell_type": "code",
   "execution_count": 58,
   "id": "638506cf",
   "metadata": {},
   "outputs": [],
   "source": [
    "a1.get_age(22)"
   ]
  },
  {
   "cell_type": "code",
   "execution_count": 60,
   "id": "dc499f31",
   "metadata": {},
   "outputs": [],
   "source": [
    "a1.get_gender('female')"
   ]
  },
  {
   "cell_type": "code",
   "execution_count": 61,
   "id": "833338f7",
   "metadata": {},
   "outputs": [
    {
     "data": {
      "text/plain": [
       "'Girija'"
      ]
     },
     "execution_count": 61,
     "metadata": {},
     "output_type": "execute_result"
    }
   ],
   "source": [
    "# invoking \n",
    "a1.show_name()"
   ]
  },
  {
   "cell_type": "code",
   "execution_count": 63,
   "id": "c477d5ca",
   "metadata": {},
   "outputs": [
    {
     "data": {
      "text/plain": [
       "22"
      ]
     },
     "execution_count": 63,
     "metadata": {},
     "output_type": "execute_result"
    }
   ],
   "source": [
    "a1.show_age()"
   ]
  },
  {
   "cell_type": "code",
   "execution_count": 62,
   "id": "2a182494",
   "metadata": {},
   "outputs": [
    {
     "data": {
      "text/plain": [
       "'female'"
      ]
     },
     "execution_count": 62,
     "metadata": {},
     "output_type": "execute_result"
    }
   ],
   "source": [
    "a1.show_gender()"
   ]
  },
  {
   "cell_type": "code",
   "execution_count": null,
   "id": "7888fedf",
   "metadata": {},
   "outputs": [],
   "source": []
  },
  {
   "cell_type": "code",
   "execution_count": null,
   "id": "b64ec69a",
   "metadata": {},
   "outputs": [],
   "source": []
  },
  {
   "cell_type": "code",
   "execution_count": null,
   "id": "301ad5f9",
   "metadata": {},
   "outputs": [],
   "source": []
  },
  {
   "cell_type": "code",
   "execution_count": null,
   "id": "da1f080f",
   "metadata": {},
   "outputs": [],
   "source": []
  },
  {
   "cell_type": "code",
   "execution_count": null,
   "id": "a7f3476d",
   "metadata": {},
   "outputs": [],
   "source": []
  },
  {
   "cell_type": "code",
   "execution_count": null,
   "id": "df8d7ad3",
   "metadata": {},
   "outputs": [],
   "source": []
  },
  {
   "cell_type": "code",
   "execution_count": null,
   "id": "3ace0cc8",
   "metadata": {},
   "outputs": [],
   "source": []
  },
  {
   "cell_type": "code",
   "execution_count": null,
   "id": "7bac748e",
   "metadata": {},
   "outputs": [],
   "source": []
  },
  {
   "cell_type": "code",
   "execution_count": null,
   "id": "0170c90d",
   "metadata": {},
   "outputs": [],
   "source": []
  },
  {
   "cell_type": "code",
   "execution_count": null,
   "id": "c4f96836",
   "metadata": {},
   "outputs": [],
   "source": []
  },
  {
   "cell_type": "code",
   "execution_count": null,
   "id": "4c9a2f08",
   "metadata": {},
   "outputs": [],
   "source": []
  },
  {
   "cell_type": "code",
   "execution_count": null,
   "id": "1bea5ec6",
   "metadata": {},
   "outputs": [],
   "source": []
  },
  {
   "cell_type": "code",
   "execution_count": null,
   "id": "9898cf3a",
   "metadata": {},
   "outputs": [],
   "source": []
  },
  {
   "cell_type": "code",
   "execution_count": null,
   "id": "a7a780ff",
   "metadata": {},
   "outputs": [],
   "source": []
  },
  {
   "cell_type": "code",
   "execution_count": null,
   "id": "516fde03",
   "metadata": {},
   "outputs": [],
   "source": []
  },
  {
   "cell_type": "code",
   "execution_count": null,
   "id": "a21a8088",
   "metadata": {},
   "outputs": [],
   "source": []
  },
  {
   "cell_type": "code",
   "execution_count": null,
   "id": "569cc6dc",
   "metadata": {},
   "outputs": [],
   "source": []
  },
  {
   "cell_type": "code",
   "execution_count": null,
   "id": "83ab0c40",
   "metadata": {},
   "outputs": [],
   "source": []
  },
  {
   "cell_type": "code",
   "execution_count": null,
   "id": "0d14c817",
   "metadata": {},
   "outputs": [],
   "source": []
  },
  {
   "cell_type": "code",
   "execution_count": null,
   "id": "1fb98e85",
   "metadata": {},
   "outputs": [],
   "source": []
  }
 ],
 "metadata": {
  "kernelspec": {
   "display_name": "Python 3 (ipykernel)",
   "language": "python",
   "name": "python3"
  },
  "language_info": {
   "codemirror_mode": {
    "name": "ipython",
    "version": 3
   },
   "file_extension": ".py",
   "mimetype": "text/x-python",
   "name": "python",
   "nbconvert_exporter": "python",
   "pygments_lexer": "ipython3",
   "version": "3.10.9"
  }
 },
 "nbformat": 4,
 "nbformat_minor": 5
}
