{
 "cells": [
  {
   "cell_type": "markdown",
   "id": "84a6cafa",
   "metadata": {},
   "source": [
    "# * list iterables and iterators"
   ]
  },
  {
   "cell_type": "code",
   "execution_count": 1,
   "id": "eb7a675b",
   "metadata": {},
   "outputs": [
    {
     "name": "stdout",
     "output_type": "stream",
     "text": [
      "1\n",
      "2\n",
      "3\n",
      "4\n",
      "5\n",
      "6\n",
      "7\n"
     ]
    }
   ],
   "source": [
    "## list is iterable\n",
    "\n",
    "lst = [1,2,3,4,5,6,7]    # it is normal list \n",
    "\n",
    "for i in lst:\n",
    "    print(i)"
   ]
  },
  {
   "cell_type": "code",
   "execution_count": 5,
   "id": "f82dbc62",
   "metadata": {},
   "outputs": [],
   "source": [
    "lst1 = iter(lst)     # it is converted list into iterators"
   ]
  },
  {
   "cell_type": "code",
   "execution_count": 7,
   "id": "86d133b0",
   "metadata": {},
   "outputs": [
    {
     "data": {
      "text/plain": [
       "1"
      ]
     },
     "execution_count": 7,
     "metadata": {},
     "output_type": "execute_result"
    }
   ],
   "source": [
    "next(lst1)    # it is used to retrive the elements in iterators"
   ]
  },
  {
   "cell_type": "code",
   "execution_count": 8,
   "id": "0dcbcafb",
   "metadata": {},
   "outputs": [
    {
     "name": "stdout",
     "output_type": "stream",
     "text": [
      "2\n",
      "3\n",
      "4\n",
      "5\n",
      "6\n",
      "7\n"
     ]
    }
   ],
   "source": [
    "for i in lst1:    # iterators are run in for loop also\n",
    "    print(i)"
   ]
  },
  {
   "cell_type": "markdown",
   "id": "0ec7599c",
   "metadata": {},
   "source": [
    "# * Generators"
   ]
  },
  {
   "cell_type": "code",
   "execution_count": 16,
   "id": "13a71aa0",
   "metadata": {},
   "outputs": [],
   "source": [
    "def square(n):         \n",
    "    for i in range(n):\n",
    "        yield i**2      # it is a generator we use yield keyword"
   ]
  },
  {
   "cell_type": "code",
   "execution_count": 17,
   "id": "59a56fd0",
   "metadata": {},
   "outputs": [
    {
     "data": {
      "text/plain": [
       "<generator object square at 0x000001F21E026D50>"
      ]
     },
     "execution_count": 17,
     "metadata": {},
     "output_type": "execute_result"
    }
   ],
   "source": [
    "square(3)"
   ]
  },
  {
   "cell_type": "code",
   "execution_count": 19,
   "id": "5fe1d874",
   "metadata": {},
   "outputs": [
    {
     "name": "stdout",
     "output_type": "stream",
     "text": [
      "0\n",
      "1\n",
      "4\n"
     ]
    }
   ],
   "source": [
    "for i in square(3):\n",
    "    print(i)"
   ]
  },
  {
   "cell_type": "markdown",
   "id": "9a048b1a",
   "metadata": {},
   "source": [
    "# * Map function in python"
   ]
  },
  {
   "cell_type": "code",
   "execution_count": 1,
   "id": "fbdc89fa",
   "metadata": {},
   "outputs": [],
   "source": [
    "# simple fuction create\n",
    "def even_odd(num):\n",
    "    if num%2==0:\n",
    "        return ' the {} is even .'.format(num)\n",
    "    else:\n",
    "        return 'the {} is odd .'.format(num) \n",
    "                                         "
   ]
  },
  {
   "cell_type": "code",
   "execution_count": 2,
   "id": "7e42dd65",
   "metadata": {},
   "outputs": [
    {
     "data": {
      "text/plain": [
       "' the 4 is even .'"
      ]
     },
     "execution_count": 2,
     "metadata": {},
     "output_type": "execute_result"
    }
   ],
   "source": [
    "even_odd(4)"
   ]
  },
  {
   "cell_type": "code",
   "execution_count": 4,
   "id": "7b4788d1",
   "metadata": {},
   "outputs": [],
   "source": [
    "lst = [1,2,3,4,5,6,7,8,9]  # we have to find even and odd number from a list "
   ]
  },
  {
   "cell_type": "code",
   "execution_count": 5,
   "id": "d027b0ea",
   "metadata": {},
   "outputs": [
    {
     "data": {
      "text/plain": [
       "['the 1 is odd .',\n",
       " ' the 2 is even .',\n",
       " 'the 3 is odd .',\n",
       " ' the 4 is even .',\n",
       " 'the 5 is odd .',\n",
       " ' the 6 is even .',\n",
       " 'the 7 is odd .',\n",
       " ' the 8 is even .',\n",
       " 'the 9 is odd .']"
      ]
     },
     "execution_count": 5,
     "metadata": {},
     "output_type": "execute_result"
    }
   ],
   "source": [
    "list(map(even_odd,lst))  # we have to pass first function then iterable(lst)\n",
    "                         # map function is run only list data type so that it is converted"
   ]
  },
  {
   "cell_type": "markdown",
   "id": "77d9b918",
   "metadata": {},
   "source": [
    "# * Filter function"
   ]
  },
  {
   "cell_type": "code",
   "execution_count": 6,
   "id": "4d08a415",
   "metadata": {},
   "outputs": [],
   "source": [
    "def even(num):\n",
    "    if num%2==0:\n",
    "        return True"
   ]
  },
  {
   "cell_type": "code",
   "execution_count": 7,
   "id": "d74eea8d",
   "metadata": {},
   "outputs": [],
   "source": [
    "lst = [1,2,3,4,5,6,7,8,9]"
   ]
  },
  {
   "cell_type": "code",
   "execution_count": 8,
   "id": "a932f871",
   "metadata": {},
   "outputs": [
    {
     "data": {
      "text/plain": [
       "[2, 4, 6, 8]"
      ]
     },
     "execution_count": 8,
     "metadata": {},
     "output_type": "execute_result"
    }
   ],
   "source": [
    "list(filter(even,lst))   # filter function"
   ]
  },
  {
   "cell_type": "code",
   "execution_count": 11,
   "id": "852d9aa9",
   "metadata": {},
   "outputs": [
    {
     "data": {
      "text/plain": [
       "[False, True, False, True, False, True, False, True, False]"
      ]
     },
     "execution_count": 11,
     "metadata": {},
     "output_type": "execute_result"
    }
   ],
   "source": [
    "list(map(lambda num: num%2==0,lst))  # using map and lambda function"
   ]
  },
  {
   "cell_type": "markdown",
   "id": "c569e8ae",
   "metadata": {},
   "source": [
    "# * Exception handling"
   ]
  },
  {
   "cell_type": "code",
   "execution_count": 1,
   "id": "7ec4c843",
   "metadata": {},
   "outputs": [
    {
     "ename": "NameError",
     "evalue": "name 'b' is not defined",
     "output_type": "error",
     "traceback": [
      "\u001b[1;31m---------------------------------------------------------------------------\u001b[0m",
      "\u001b[1;31mNameError\u001b[0m                                 Traceback (most recent call last)",
      "Cell \u001b[1;32mIn[1], line 1\u001b[0m\n\u001b[1;32m----> 1\u001b[0m a \u001b[38;5;241m=\u001b[39m \u001b[43mb\u001b[49m\n",
      "\u001b[1;31mNameError\u001b[0m: name 'b' is not defined"
     ]
    }
   ],
   "source": [
    "a = b  # this error occures because of b variable is not declare"
   ]
  },
  {
   "cell_type": "code",
   "execution_count": 2,
   "id": "e65b54fe",
   "metadata": {},
   "outputs": [
    {
     "name": "stdout",
     "output_type": "stream",
     "text": [
      "some problem may have occured\n"
     ]
    }
   ],
   "source": [
    "# how to handle the exception\n",
    "try :   # inside the try block we can add the code in which exception will occure\n",
    "    a = b\n",
    "except :   # except kryword is used for printing the what problem is occured in our manner\n",
    "    print('some problem may have occured')"
   ]
  },
  {
   "cell_type": "code",
   "execution_count": 6,
   "id": "bd7a272f",
   "metadata": {},
   "outputs": [
    {
     "name": "stdout",
     "output_type": "stream",
     "text": [
      "try to make the datatype similar\n"
     ]
    }
   ],
   "source": [
    "try :              # example\n",
    "    a=1\n",
    "    b='s'          # we can write our own error printing\n",
    "    c = a+b\n",
    "    \n",
    "except NameError:\n",
    "     print('the user have not defined the variable')\n",
    "except TypeError:\n",
    "        print('try to make the datatype similar')\n",
    "        "
   ]
  },
  {
   "cell_type": "code",
   "execution_count": 11,
   "id": "549bcdec",
   "metadata": {},
   "outputs": [
    {
     "name": "stdout",
     "output_type": "stream",
     "text": [
      "enter the number 1 12\n",
      "enter the number 2 4\n",
      "3.0\n",
      "48\n",
      "16\n"
     ]
    }
   ],
   "source": [
    "try :              # example\n",
    "    a = int(input('enter the number 1 '))\n",
    "    b = int(input('enter the number 2 '))\n",
    "    c = a/b         # we take the perticular error and paste it in except block\n",
    "    d = a*b         # and gives whatever u understand type of error just printing in our own.    e = a+b\n",
    "    print(c)        \n",
    "    print(d)\n",
    "    print(e)        # it will execute step by step    \n",
    "except NameError:\n",
    "     print('the user have not defined the variable')\n",
    "except TypeError:\n",
    "        print('try to make the datatype similar')\n",
    "except exception as ex:\n",
    "    print(ex)"
   ]
  },
  {
   "cell_type": "code",
   "execution_count": 13,
   "id": "9d28510d",
   "metadata": {},
   "outputs": [
    {
     "name": "stdout",
     "output_type": "stream",
     "text": [
      "enter the number 1 12\n",
      "enter the number 2 4\n",
      "3.0\n",
      "48\n",
      "16\n"
     ]
    }
   ],
   "source": [
    "## try else\n",
    "try :              # example\n",
    "    a = int(input('enter the number 1 '))\n",
    "    b = int(input('enter the number 2 '))\n",
    "    c = a/b         # we take the perticular error and paste it in except block\n",
    "    d = a*b         # and gives whatever u understand type of error just printing in our own.    e = a+b\n",
    "                     # it will execute step by step    \n",
    "except NameError:\n",
    "     print('the user have not defined the variable')\n",
    "except TypeError:\n",
    "        print('try to make the datatype similar')\n",
    "except exception as ex:\n",
    "    print(ex)\n",
    "else:\n",
    "    print(c)        \n",
    "    print(d)\n",
    "    print(e)     "
   ]
  },
  {
   "cell_type": "code",
   "execution_count": 14,
   "id": "5bcf9f5b",
   "metadata": {},
   "outputs": [
    {
     "name": "stdout",
     "output_type": "stream",
     "text": [
      "enter the number 1 12\n",
      "enter the number 2 6\n",
      "2.0\n",
      " the execution is done\n"
     ]
    }
   ],
   "source": [
    "## try else & finally\n",
    "try :              # example\n",
    "    a = int(input('enter the number 1 '))\n",
    "    b = int(input('enter the number 2 '))\n",
    "    c = a/b         # we take the perticular error and paste it in except block\n",
    "                    # and gives whatever u understand type of error just printing in our own.    e = a+b\n",
    "                     # it will execute step by step    \n",
    "except NameError:\n",
    "     print('the user have not defined the variable')\n",
    "except TypeError:\n",
    "        print('try to make the datatype similar')\n",
    "except exception as ex:\n",
    "    print(ex)\n",
    "else:\n",
    "    print(c)        \n",
    "finally :\n",
    "    print(' the execution is done')  # finaly block is printed always."
   ]
  },
  {
   "cell_type": "markdown",
   "id": "08a02627",
   "metadata": {},
   "source": [
    "# * custom exception"
   ]
  },
  {
   "cell_type": "code",
   "execution_count": 2,
   "id": "97c16d01",
   "metadata": {},
   "outputs": [],
   "source": [
    "class error (Exception):   # this is a technic of inheriting\n",
    "    pass\n",
    "\n",
    "class dobexception(error):\n",
    "    pass"
   ]
  },
  {
   "cell_type": "code",
   "execution_count": 12,
   "id": "83770cf8",
   "metadata": {},
   "outputs": [
    {
     "name": "stdout",
     "output_type": "stream",
     "text": [
      "enter the year of birth :1991\n",
      "the age is valid. you can apply for the exam\n"
     ]
    }
   ],
   "source": [
    "year = int(input('enter the year of birth :'))\n",
    "age = 2021-year\n",
    "try:\n",
    "    if age <=30 & age>20:\n",
    "        print('the age is valid. you can apply for the exam')\n",
    "    else:\n",
    "        raise dobexception\n",
    "except dobexception:\n",
    "        print('the year age is not valid. you cannot apply for the exams ')"
   ]
  },
  {
   "cell_type": "markdown",
   "id": "d7c49dde",
   "metadata": {},
   "source": [
    "# * Assert function in exception handling\n",
    "python provides the assert statement to check if a given logical expression is true or false.program execution proceeds only if the expression is true and raises the assertionerror when it is false. the following code shows the usage of the assert statement \n"
   ]
  },
  {
   "cell_type": "code",
   "execution_count": 9,
   "id": "7e002cf8",
   "metadata": {},
   "outputs": [
    {
     "ename": "AssertionError",
     "evalue": "",
     "output_type": "error",
     "traceback": [
      "\u001b[1;31m---------------------------------------------------------------------------\u001b[0m",
      "\u001b[1;31mAssertionError\u001b[0m                            Traceback (most recent call last)",
      "Cell \u001b[1;32mIn[9], line 2\u001b[0m\n\u001b[0;32m      1\u001b[0m num \u001b[38;5;241m=\u001b[39m \u001b[38;5;241m10\u001b[39m \n\u001b[1;32m----> 2\u001b[0m \u001b[38;5;28;01massert\u001b[39;00m num \u001b[38;5;241m>\u001b[39m \u001b[38;5;241m10\u001b[39m\n",
      "\u001b[1;31mAssertionError\u001b[0m: "
     ]
    }
   ],
   "source": [
    "num = 10          # when it is falsse handling by following  \n",
    "assert num > 10"
   ]
  },
  {
   "cell_type": "code",
   "execution_count": 1,
   "id": "a7e539ef",
   "metadata": {},
   "outputs": [
    {
     "name": "stdout",
     "output_type": "stream",
     "text": [
      "enter the number12\n",
      "the number is even\n"
     ]
    }
   ],
   "source": [
    "try:\n",
    "    num = int(input('enter the number:'))\n",
    "    assert num%2==0   \n",
    "    print('the number is even')\n",
    "except AssertionError:\n",
    "    print('please enter even number')"
   ]
  },
  {
   "cell_type": "code",
   "execution_count": 2,
   "id": "f065e560",
   "metadata": {},
   "outputs": [
    {
     "name": "stdout",
     "output_type": "stream",
     "text": [
      "enter the number11\n",
      "please enter even number\n"
     ]
    }
   ],
   "source": [
    "try:\n",
    "    num = int(input('enter the number:'))\n",
    "    assert num%2==0   \n",
    "    print('the number is even')\n",
    "except AssertionError:\n",
    "    print('please enter even number')"
   ]
  },
  {
   "cell_type": "code",
   "execution_count": null,
   "id": "8557cb61",
   "metadata": {},
   "outputs": [],
   "source": []
  }
 ],
 "metadata": {
  "kernelspec": {
   "display_name": "Python 3 (ipykernel)",
   "language": "python",
   "name": "python3"
  },
  "language_info": {
   "codemirror_mode": {
    "name": "ipython",
    "version": 3
   },
   "file_extension": ".py",
   "mimetype": "text/x-python",
   "name": "python",
   "nbconvert_exporter": "python",
   "pygments_lexer": "ipython3",
   "version": "3.10.9"
  }
 },
 "nbformat": 4,
 "nbformat_minor": 5
}
